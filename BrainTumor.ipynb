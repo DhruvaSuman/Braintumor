{
  "nbformat": 4,
  "nbformat_minor": 0,
  "metadata": {
    "colab": {
      "name": "BrainTumor.ipynb",
      "provenance": []
    },
    "kernelspec": {
      "name": "python3",
      "display_name": "Python 3"
    }
  },
  "cells": [
    {
      "cell_type": "code",
      "metadata": {
        "id": "kag__rBM7k2I",
        "colab_type": "code",
        "colab": {}
      },
      "source": [
        "import keras\n",
        "from keras.models import load_model \n",
        "classifier = load_model('cnnBrain.h5')\n",
        "import numpy as np\n",
        "from keras.models import load_model\n",
        "from keras.preprocessing import image\n",
        "from keras.preprocessing.image import ImageDataGenerator,array_to_img,img_to_array,load_img\n",
        "image_to_predict = '/content/Brain/test/no/no 9.png'\n",
        "test_image =image.load_img(image_to_predict,target_size =(64,64))\n",
        "test_image =image.img_to_array(test_image)\n",
        "test_image =np.expand_dims(test_image, axis =0)\n",
        "result = classifier.predict(test_image)\n",
        "if result[0][0] >= 0.7:\n",
        "    prediction = 'tumour'\n",
        "else:\n",
        "    prediction = 'non tumor'\n",
        "print(prediction)\n"
      ],
      "execution_count": 0,
      "outputs": []
    }
  ]
}